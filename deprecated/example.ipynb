{
 "cells": [
  {
   "cell_type": "code",
   "execution_count": null,
   "metadata": {},
   "outputs": [],
   "source": [
    "import pandas as pd\n",
    "import numpy as np\n",
    "from scipy.optimize import nnls\n",
    "from sklearn import preprocessing\n",
    "from sklearn.model_selection import train_test_split\n",
    "import scipy.io as sio\n",
    "import os\n",
    "from nextDoorForecaster import nextDoorForecaster\n",
    "from joblib import Parallel, delayed"
   ]
  },
  {
   "cell_type": "code",
   "execution_count": null,
   "metadata": {},
   "outputs": [],
   "source": [
    "# read synthetic data from a mat file\n",
    "dataRoot  = './data'\n",
    "dataFile  = os.path.join(dataRoot, 'fakeArray.mat')\n",
    "matData   = sio.loadmat(dataFile)\n",
    "\n",
    "data     = matData['fakeArray']\n",
    "varNames = [f[0] for f in matData['varNames'][0]]\n",
    "df   = pd.DataFrame(data, columns=varNames)\n",
    "\n",
    "numRecords = df.shape[0]"
   ]
  },
  {
   "cell_type": "code",
   "execution_count": null,
   "metadata": {},
   "outputs": [],
   "source": [
    "# input vars\n",
    "inputVars   = ['num1', 'num2', 'confoundingVar', \n",
    "'c1_0', 'c1_1', 'c2_0', 'c2_1']\n",
    "responseVar = 'responseVar'"
   ]
  },
  {
   "cell_type": "code",
   "execution_count": null,
   "metadata": {},
   "outputs": [],
   "source": [
    "# get datasets\n",
    "# training\n",
    "X = df.iloc[0:300][inputVars].values\n",
    "Y = df.iloc[0:300][responseVar].values\n",
    "\n",
    "# validate\n",
    "X_val = df.iloc[300:400][inputVars].values\n",
    "y_val = df.iloc[300:400][responseVar].values\n",
    "\n",
    "# test\n",
    "X_test = df.iloc[400::][inputVars].values\n",
    "y_test = df.iloc[400::][responseVar].values"
   ]
  },
  {
   "cell_type": "code",
   "execution_count": null,
   "metadata": {},
   "outputs": [],
   "source": [
    "# Run the forecaster in parallel\n",
    "num_frcs = 50\n",
    "d_predictions = nextDoorForecaster.fit(X,Y,X_val,y_val,X_test,num_frcs)\n",
    "y_hat = d_predictions['predictions']\n",
    "errors = nextDoorForecaster.get_frc_errors(y_test, y_hat)\n",
    "print(f'{num_frcs} forecasters with MSE {errors[\"MSE\"]:.2f} and MAPE {errors[\"MAPE\"]:.2f} and mError {errors[\"meanError\"]:.2f}')"
   ]
  },
  {
   "cell_type": "code",
   "execution_count": null,
   "metadata": {},
   "outputs": [],
   "source": [
    "nV = nextDoorForecaster.normalise_vector(d_predictions['features'], 100)\n",
    "var_importance = pd.DataFrame(nV, index=inputVars)\n",
    "var_importance"
   ]
  }
 ],
 "metadata": {
  "kernelspec": {
   "display_name": "Python 3",
   "language": "python",
   "name": "python3"
  },
  "language_info": {
   "codemirror_mode": {
    "name": "ipython",
    "version": 3
   },
   "file_extension": ".py",
   "mimetype": "text/x-python",
   "name": "python",
   "nbconvert_exporter": "python",
   "pygments_lexer": "ipython3",
   "version": "3.7.2"
  }
 },
 "nbformat": 4,
 "nbformat_minor": 2
}
