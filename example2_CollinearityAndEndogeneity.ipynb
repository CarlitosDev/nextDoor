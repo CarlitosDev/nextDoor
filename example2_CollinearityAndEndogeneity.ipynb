{
 "cells": [
  {
   "cell_type": "markdown",
   "metadata": {},
   "source": [
    "COLLINEARITY AND ENDOGENEITY\n",
    "\n",
    "Replicate Experiment"
   ]
  },
  {
   "cell_type": "code",
   "execution_count": 3,
   "metadata": {},
   "outputs": [],
   "source": [
    "import pandas as pd\n",
    "import numpy as np\n",
    "from scipy.optimize import nnls\n",
    "from sklearn import preprocessing\n",
    "from sklearn.model_selection import train_test_split\n",
    "import scipy.io as sio\n",
    "import os\n",
    "from nextDoorForecaster import nextDoorForecaster\n",
    "from joblib import Parallel, delayed"
   ]
  },
  {
   "cell_type": "code",
   "execution_count": 4,
   "metadata": {},
   "outputs": [],
   "source": [
    "# read synthetic data from a mat file\n",
    "dataRoot  = './data'\n",
    "dataFile  = os.path.join(dataRoot, 'fakeArray.mat')\n",
    "matData   = sio.loadmat(dataFile)\n",
    "\n",
    "data     = matData['fakeArray']\n",
    "varNames = [f[0] for f in matData['varNames'][0]]\n",
    "df   = pd.DataFrame(data, columns=varNames)\n",
    "\n",
    "numRecords = df.shape[0]"
   ]
  },
  {
   "cell_type": "code",
   "execution_count": 5,
   "metadata": {},
   "outputs": [],
   "source": [
    "# input vars\n",
    "inputVars   = ['num1', 'num2', 'confoundingVar', \n",
    "'c1_0', 'c1_1', 'c2_0', 'c2_1']\n",
    "responseVar = 'responseVar'"
   ]
  },
  {
   "cell_type": "code",
   "execution_count": 6,
   "metadata": {},
   "outputs": [],
   "source": [
    "# get datasets\n",
    "# training\n",
    "X = df.iloc[0:300][inputVars].values\n",
    "Y = df.iloc[0:300][responseVar].values\n",
    "\n",
    "# validate\n",
    "X_val = df.iloc[300:400][inputVars].values\n",
    "y_val = df.iloc[300:400][responseVar].values\n",
    "\n",
    "# test\n",
    "X_test = df.iloc[400::][inputVars].values\n",
    "y_test = df.iloc[400::][responseVar].values"
   ]
  },
  {
   "cell_type": "code",
   "execution_count": 7,
   "metadata": {},
   "outputs": [
    {
     "name": "stdout",
     "output_type": "stream",
     "text": [
      "...prediction with 100 forecasters done in 1.52 sec!\n",
      "100 forecasters with MSE 171.49 and MAPE 54.29 and mError -0.32\n"
     ]
    }
   ],
   "source": [
    "# Run the forecaster in parallel\n",
    "num_frcs = 100\n",
    "d_predictions = nextDoorForecaster.fit(X,Y,X_val,y_val,X_test,num_frcs)\n",
    "y_hat = d_predictions['predictions']\n",
    "errors = nextDoorForecaster.get_frc_errors(y_test, y_hat)\n",
    "print(f'{num_frcs} forecasters with MSE {errors[\"MSE\"]:.2f} and MAPE {errors[\"MAPE\"]:.2f} and mError {errors[\"meanError\"]:.2f}')"
   ]
  },
  {
   "cell_type": "code",
   "execution_count": 8,
   "metadata": {},
   "outputs": [
    {
     "data": {
      "text/html": [
       "<div>\n",
       "<style scoped>\n",
       "    .dataframe tbody tr th:only-of-type {\n",
       "        vertical-align: middle;\n",
       "    }\n",
       "\n",
       "    .dataframe tbody tr th {\n",
       "        vertical-align: top;\n",
       "    }\n",
       "\n",
       "    .dataframe thead th {\n",
       "        text-align: right;\n",
       "    }\n",
       "</style>\n",
       "<table border=\"1\" class=\"dataframe\">\n",
       "  <thead>\n",
       "    <tr style=\"text-align: right;\">\n",
       "      <th></th>\n",
       "      <th>0</th>\n",
       "    </tr>\n",
       "  </thead>\n",
       "  <tbody>\n",
       "    <tr>\n",
       "      <th>num1</th>\n",
       "      <td>1.955963</td>\n",
       "    </tr>\n",
       "    <tr>\n",
       "      <th>num2</th>\n",
       "      <td>20.296157</td>\n",
       "    </tr>\n",
       "    <tr>\n",
       "      <th>confoundingVar</th>\n",
       "      <td>100.000000</td>\n",
       "    </tr>\n",
       "    <tr>\n",
       "      <th>c1_0</th>\n",
       "      <td>0.380702</td>\n",
       "    </tr>\n",
       "    <tr>\n",
       "      <th>c1_1</th>\n",
       "      <td>0.010841</td>\n",
       "    </tr>\n",
       "    <tr>\n",
       "      <th>c2_0</th>\n",
       "      <td>70.699940</td>\n",
       "    </tr>\n",
       "    <tr>\n",
       "      <th>c2_1</th>\n",
       "      <td>0.000000</td>\n",
       "    </tr>\n",
       "  </tbody>\n",
       "</table>\n",
       "</div>"
      ],
      "text/plain": [
       "                         0\n",
       "num1              1.955963\n",
       "num2             20.296157\n",
       "confoundingVar  100.000000\n",
       "c1_0              0.380702\n",
       "c1_1              0.010841\n",
       "c2_0             70.699940\n",
       "c2_1              0.000000"
      ]
     },
     "execution_count": 8,
     "metadata": {},
     "output_type": "execute_result"
    }
   ],
   "source": [
    "nV = nextDoorForecaster.normalise_vector(d_predictions['features'], 100)\n",
    "var_importance = pd.DataFrame(nV, index=inputVars)\n",
    "var_importance"
   ]
  },
  {
   "cell_type": "code",
   "execution_count": null,
   "metadata": {},
   "outputs": [],
   "source": []
  }
 ],
 "metadata": {
  "kernelspec": {
   "display_name": "Python 3",
   "language": "python",
   "name": "python3"
  },
  "language_info": {
   "codemirror_mode": {
    "name": "ipython",
    "version": 3
   },
   "file_extension": ".py",
   "mimetype": "text/x-python",
   "name": "python",
   "nbconvert_exporter": "python",
   "pygments_lexer": "ipython3",
   "version": "3.7.3"
  }
 },
 "nbformat": 4,
 "nbformat_minor": 2
}
