{
 "cells": [
  {
   "cell_type": "markdown",
   "metadata": {},
   "source": [
    "Experiment where only one variable (x_3) influences the sales"
   ]
  },
  {
   "cell_type": "code",
   "execution_count": 1,
   "metadata": {},
   "outputs": [],
   "source": [
    "import pandas as pd\n",
    "import numpy as np\n",
    "from scipy.optimize import nnls\n",
    "from sklearn import preprocessing\n",
    "from sklearn.model_selection import train_test_split\n",
    "import scipy.io as sio\n",
    "import os\n",
    "from nextDoorForecaster import nextDoorForecaster\n",
    "from math import sqrt\n",
    "from joblib import Parallel, delayed"
   ]
  },
  {
   "cell_type": "code",
   "execution_count": 2,
   "metadata": {},
   "outputs": [],
   "source": [
    "num_samples = 500\n",
    "\n",
    "x_3_values = np.random.randint(0,200, size=(num_samples))\n",
    "noisy_sales = 10 * np.random.random(size=(num_samples)) + x_3_values\n",
    "\n",
    "df = pd.DataFrame({\n",
    "    \"x1\" : np.random.randint(0, 100, size=(num_samples)),\n",
    "    \"x2\" : np.random.randint(0, 200, size=(num_samples)),\n",
    "    \"x3\" : x_3_values,\n",
    "    \"sales\": noisy_sales\n",
    "})\n",
    "\n",
    "\n",
    "min_max_scaler = preprocessing.MinMaxScaler()\n",
    "\n",
    "inputVars   = ['x1', 'x2', 'x3']\n",
    "responseVar = 'sales'"
   ]
  },
  {
   "cell_type": "code",
   "execution_count": 3,
   "metadata": {},
   "outputs": [
    {
     "data": {
      "text/html": [
       "<div>\n",
       "<style scoped>\n",
       "    .dataframe tbody tr th:only-of-type {\n",
       "        vertical-align: middle;\n",
       "    }\n",
       "\n",
       "    .dataframe tbody tr th {\n",
       "        vertical-align: top;\n",
       "    }\n",
       "\n",
       "    .dataframe thead th {\n",
       "        text-align: right;\n",
       "    }\n",
       "</style>\n",
       "<table border=\"1\" class=\"dataframe\">\n",
       "  <thead>\n",
       "    <tr style=\"text-align: right;\">\n",
       "      <th></th>\n",
       "      <th>x1</th>\n",
       "      <th>x2</th>\n",
       "      <th>x3</th>\n",
       "      <th>sales</th>\n",
       "    </tr>\n",
       "  </thead>\n",
       "  <tbody>\n",
       "    <tr>\n",
       "      <th>0</th>\n",
       "      <td>88</td>\n",
       "      <td>3</td>\n",
       "      <td>49</td>\n",
       "      <td>58.265808</td>\n",
       "    </tr>\n",
       "    <tr>\n",
       "      <th>1</th>\n",
       "      <td>69</td>\n",
       "      <td>18</td>\n",
       "      <td>0</td>\n",
       "      <td>3.600923</td>\n",
       "    </tr>\n",
       "    <tr>\n",
       "      <th>2</th>\n",
       "      <td>35</td>\n",
       "      <td>161</td>\n",
       "      <td>39</td>\n",
       "      <td>44.050364</td>\n",
       "    </tr>\n",
       "    <tr>\n",
       "      <th>3</th>\n",
       "      <td>68</td>\n",
       "      <td>12</td>\n",
       "      <td>115</td>\n",
       "      <td>120.963018</td>\n",
       "    </tr>\n",
       "    <tr>\n",
       "      <th>4</th>\n",
       "      <td>58</td>\n",
       "      <td>17</td>\n",
       "      <td>139</td>\n",
       "      <td>146.538535</td>\n",
       "    </tr>\n",
       "  </tbody>\n",
       "</table>\n",
       "</div>"
      ],
      "text/plain": [
       "   x1   x2   x3       sales\n",
       "0  88    3   49   58.265808\n",
       "1  69   18    0    3.600923\n",
       "2  35  161   39   44.050364\n",
       "3  68   12  115  120.963018\n",
       "4  58   17  139  146.538535"
      ]
     },
     "execution_count": 3,
     "metadata": {},
     "output_type": "execute_result"
    }
   ],
   "source": [
    "df.head()"
   ]
  },
  {
   "cell_type": "code",
   "execution_count": 4,
   "metadata": {},
   "outputs": [],
   "source": [
    "# get datasets\n",
    "# training\n",
    "X = df.iloc[0:300][inputVars].values\n",
    "Y = df.iloc[0:300][responseVar].values\n",
    "\n",
    "# validate\n",
    "X_val = df.iloc[300:400][inputVars].values\n",
    "y_val = df.iloc[300:400][responseVar].values\n",
    "\n",
    "# test\n",
    "X_test = df.iloc[400::][inputVars].values\n",
    "y_test = df.iloc[400::][responseVar].values"
   ]
  },
  {
   "cell_type": "code",
   "execution_count": 5,
   "metadata": {},
   "outputs": [
    {
     "name": "stdout",
     "output_type": "stream",
     "text": [
      "...prediction with 100 forecasters done in 1.42 sec!\n",
      "100 forecasters with MSE 10.93 and MAPE 4.73 and mError -0.32\n"
     ]
    }
   ],
   "source": [
    "# Run the forecaster in parallel\n",
    "num_frcs = 100\n",
    "d_predictions = nextDoorForecaster.fit(X,Y,X_val,y_val,X_test,num_frcs)\n",
    "y_hat = d_predictions['predictions']\n",
    "errors = nextDoorForecaster.get_frc_errors(y_test, y_hat)\n",
    "print(f'{num_frcs} forecasters with MSE {errors[\"MSE\"]:.2f} and MAPE {errors[\"MAPE\"]:.2f} and mError {errors[\"meanError\"]:.2f}')"
   ]
  },
  {
   "cell_type": "code",
   "execution_count": 6,
   "metadata": {},
   "outputs": [
    {
     "data": {
      "text/html": [
       "<div>\n",
       "<style scoped>\n",
       "    .dataframe tbody tr th:only-of-type {\n",
       "        vertical-align: middle;\n",
       "    }\n",
       "\n",
       "    .dataframe tbody tr th {\n",
       "        vertical-align: top;\n",
       "    }\n",
       "\n",
       "    .dataframe thead th {\n",
       "        text-align: right;\n",
       "    }\n",
       "</style>\n",
       "<table border=\"1\" class=\"dataframe\">\n",
       "  <thead>\n",
       "    <tr style=\"text-align: right;\">\n",
       "      <th></th>\n",
       "      <th>0</th>\n",
       "    </tr>\n",
       "  </thead>\n",
       "  <tbody>\n",
       "    <tr>\n",
       "      <th>x1</th>\n",
       "      <td>0.02086</td>\n",
       "    </tr>\n",
       "    <tr>\n",
       "      <th>x2</th>\n",
       "      <td>0.00000</td>\n",
       "    </tr>\n",
       "    <tr>\n",
       "      <th>x3</th>\n",
       "      <td>100.00000</td>\n",
       "    </tr>\n",
       "  </tbody>\n",
       "</table>\n",
       "</div>"
      ],
      "text/plain": [
       "            0\n",
       "x1    0.02086\n",
       "x2    0.00000\n",
       "x3  100.00000"
      ]
     },
     "execution_count": 6,
     "metadata": {},
     "output_type": "execute_result"
    }
   ],
   "source": [
    "nV = nextDoorForecaster.normalise_vector(d_predictions['features'], 100)\n",
    "var_importance = pd.DataFrame(nV, index=inputVars)\n",
    "var_importance"
   ]
  },
  {
   "cell_type": "code",
   "execution_count": null,
   "metadata": {},
   "outputs": [],
   "source": []
  }
 ],
 "metadata": {
  "kernelspec": {
   "display_name": "Python 3",
   "language": "python",
   "name": "python3"
  },
  "language_info": {
   "codemirror_mode": {
    "name": "ipython",
    "version": 3
   },
   "file_extension": ".py",
   "mimetype": "text/x-python",
   "name": "python",
   "nbconvert_exporter": "python",
   "pygments_lexer": "ipython3",
   "version": "3.7.3"
  }
 },
 "nbformat": 4,
 "nbformat_minor": 2
}
